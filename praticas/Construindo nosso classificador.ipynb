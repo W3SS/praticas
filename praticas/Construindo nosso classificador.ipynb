{
 "cells": [
  {
   "cell_type": "markdown",
   "metadata": {},
   "source": [
    "# Análise de dados\n",
    "### Construindo nosso próprio classificador KNN."
   ]
  },
  {
   "cell_type": "markdown",
   "metadata": {},
   "source": [
    "Importaremos o método distance que possui o método distância euclidiana.Dado n valores onde cada um representa um conjunto de atributos, calcula a distância entre eles usando o método supracitado.\n",
    "Note que dado dois valores, por exemplo, $p = (p_1,...,p_n)$ e $q = (q_1,...,q_n)$ a distância euclideana é dada por: $ \\sqrt{(p_1-q_1)^2 + ... + (p_n-q_n)^2}$\n",
    "\n",
    "\n",
    "\n"
   ]
  },
  {
   "cell_type": "code",
   "execution_count": 4,
   "metadata": {
    "collapsed": true
   },
   "outputs": [],
   "source": [
    "from scipy.spatial import distance"
   ]
  },
  {
   "cell_type": "markdown",
   "metadata": {},
   "source": [
    "Criaremos uma classe para implementarmos os métodos básicos do KNN. Basicamente temos que implementar os métodos predict\n",
    "e fit para conseguirmos fazer alguma predição. \n",
    "Segue a implementação da classe. Abaixo explicaremos melhor cada método."
   ]
  },
  {
   "cell_type": "code",
   "execution_count": 5,
   "metadata": {
    "collapsed": false
   },
   "outputs": [],
   "source": [
    "\n",
    "class MeuKNN():\n",
    "    \n",
    "    def fit(self, X_treino, y_treino):\n",
    "        self.X_treino = X_treino\n",
    "        self.y_treino = y_treino\n",
    "    \n",
    "    def predict(self, X_teste):\n",
    "        predicoes = []\n",
    "        \n",
    "        for linha in X_teste:\n",
    "            rotulo = self.closest(linha)\n",
    "            predicoes.append(rotulo)\n",
    "        return predicoes\n",
    "    \n",
    "    def closest(self, row):\n",
    "        menor_distancia = distance.euclidean(row, self.X_treino[0])\n",
    "        melhor_indice = 0\n",
    "        \n",
    "        for i in range(1, len(self.X_treino)):\n",
    "            distancia = distance.euclidean(row, self.X_treino[i])\n",
    "            if distancia < menor_distancia:\n",
    "                menor_distancia = distancia\n",
    "                melhor_indice = i\n",
    "        return self.y_treino[melhor_indice]\n",
    "    \n",
    "    "
   ]
  },
  {
   "cell_type": "markdown",
   "metadata": {},
   "source": [
    "### Método fit"
   ]
  },
  {
   "cell_type": "markdown",
   "metadata": {},
   "source": [
    "Basicamente passamos por parâmetro o conjuntos de treino e atribuimos seus valores para atributos da classe. Note que o \n",
    "self indica que o atributo é referente a classe. Embora neste caso os atributos possuam o mesmo nome, o self os diferencia.\n",
    "\n",
    "    def fit(self, X_treino, y_treino ):\n",
    "        self.X_treino = X_treino\n",
    "        self.y_treino = y_treino\n",
    "        "
   ]
  },
  {
   "cell_type": "markdown",
   "metadata": {},
   "source": [
    "### Método predict"
   ]
  },
  {
   "cell_type": "markdown",
   "metadata": {},
   "source": [
    "O método predict recebe um conjunto de elementos de teste e retorna as predições para cada elemento correspondente.\n",
    "Logo, temos inicialmente uma lista vazia de predições.\n",
    "Percorremos cada linha da lista X_teste para fazermos as predições.\n",
    "rotulo recebe a predição. A função closest percorre todas as linhas do conjunto de treino e verifica qual atributo é o\n",
    "mais próximo daquela linha passada por parâmetro. Ao encontrar o mais próximo do conjunto de treino, é atribuido àquela linha a classificação do mais próximo.\n",
    "Por fim, adicionamos a lista de predições a classificação daquela linha.\n",
    "\n",
    "    def preditc(self, X_teste):\n",
    "    \n",
    "        predicoes = []\n",
    "        for linha in X_teste:\n",
    "            rotulo = self.closest(linha)\n",
    "            predicoes.append(label)\n",
    "        return predicoes"
   ]
  },
  {
   "cell_type": "markdown",
   "metadata": {},
   "source": [
    "### Método closest"
   ]
  },
  {
   "cell_type": "markdown",
   "metadata": {},
   "source": [
    "O método closest como dito anteriormente, verifica para todo elemento do conjunto de treino, qual mais se aproxima daquele\n",
    "elemento passado por parâmetro. Ele faz essa verificação usando a distância euclidiana e sempre que aparece uma linha \n",
    "mais próxima do elemento passado por parametro, o indice do melhor atributo mais próximo é atualizado. No final,\n",
    "retornamos a classe que o mais próximo pertence que consequentemente fará parte do elemento a ser predito.\n",
    "\n",
    "\n",
    "    def closest(self, row):\n",
    "        menor_distancia = distance.euclidean(row, self.X_treino[0])\n",
    "        melhor_indice = 0\n",
    "        \n",
    "        for i in range(1, len(self.X_treino)):\n",
    "            distancia = euc(row, self.X_treino[i])\n",
    "            if distancia < menor_distancia:\n",
    "                menor_distancia = distancia\n",
    "                melhor_indice = i\n",
    "        return self.y_treino[melhor_indice]"
   ]
  },
  {
   "cell_type": "markdown",
   "metadata": {},
   "source": [
    "### Usando nosso classificador\n",
    "\n",
    "Usaremos o exemplo da prática anterior para verificarmos a acurácia do nosso classificador. Desta maneira apenas apresentaremos o código fazendo modificações apenas em três lugares. "
   ]
  },
  {
   "cell_type": "code",
   "execution_count": 6,
   "metadata": {
    "collapsed": false
   },
   "outputs": [
    {
     "name": "stdout",
     "output_type": "stream",
     "text": [
      "0.96\n"
     ]
    }
   ],
   "source": [
    "from sklearn import datasets\n",
    "from sklearn.cross_validation import train_test_split\n",
    "iris = datasets.load_iris()\n",
    "\n",
    "X = iris.data\n",
    "y = iris.target\n",
    "\n",
    "X_treino, X_teste, y_treino, y_teste = train_test_split(X,y,test_size = .5)\n",
    "\n",
    "classificador = MeuKNN()\n",
    "\n",
    "classificador.fit(X_treino, y_treino)\n",
    "predicoes = classificador.predict(X_teste)\n",
    "\n",
    "from sklearn.metrics import accuracy_score\n",
    "\n",
    "print(accuracy_score(y_teste, predicoes))"
   ]
  },
  {
   "cell_type": "markdown",
   "metadata": {},
   "source": [
    "Obtemos uma taxa de acerto acima de 90%. Note que assim como no exemplo da prática anterior, bastamos apenas mudar a classe que estávamos instanciando. O restante do cógio se manteve! "
   ]
  },
  {
   "cell_type": "markdown",
   "metadata": {},
   "source": [
    "#### Notebooks baseados no repositório do seguinte link: https://github.com/machine-learning-projects/machine-learning-recipes"
   ]
  }
 ],
 "metadata": {
  "kernelspec": {
   "display_name": "Python 3",
   "language": "python",
   "name": "python3"
  },
  "language_info": {
   "codemirror_mode": {
    "name": "ipython",
    "version": 3
   },
   "file_extension": ".py",
   "mimetype": "text/x-python",
   "name": "python",
   "nbconvert_exporter": "python",
   "pygments_lexer": "ipython3",
   "version": "3.6.0"
  }
 },
 "nbformat": 4,
 "nbformat_minor": 2
}
