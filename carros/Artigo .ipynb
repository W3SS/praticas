{
 "cells": [
  {
   "cell_type": "markdown",
   "metadata": {},
   "source": [
    "## Avaliação de Carros"
   ]
  },
  {
   "cell_type": "markdown",
   "metadata": {},
   "source": [
    "Neste notebook apresentamos um problema de classificação de carros. Usaremos algumas técnicas de machine learning e compararemos os resultados obtidos."
   ]
  },
  {
   "cell_type": "code",
   "execution_count": 1,
   "metadata": {
    "collapsed": true
   },
   "outputs": [],
   "source": [
    "from sklearn import tree\n",
    "from sklearn import model_selection\n",
    "from sklearn.metrics import accuracy_score\n",
    "from sklearn.metrics import recall_score\n",
    "from sklearn.metrics import precision_score\n",
    "from sklearn.metrics import f1_score\n",
    "from sklearn.naive_bayes import GaussianNB\n",
    "from sklearn.neighbors import KNeighborsClassifier\n",
    "from sklearn import svm\n",
    "import math\n",
    "import pandas as pd\n",
    "import numpy as np\n",
    "from sklearn.metrics import confusion_matrix\n",
    "import matplotlib.pyplot as plt\n",
    "%matplotlib inline\n",
    "#data = pd.read_csv('car numeric values.data')\n",
    "newdata = pd.read_csv('car.data')"
   ]
  },
  {
   "cell_type": "markdown",
   "metadata": {},
   "source": [
    "### Tratamento dos dados"
   ]
  },
  {
   "cell_type": "markdown",
   "metadata": {},
   "source": [
    "Os atributos da base de dados são os descritos na lista abaixo chamada colunas. Nomearemos cada coluna do dataset de acordo com o nome de sua respectiva característica."
   ]
  },
  {
   "cell_type": "code",
   "execution_count": 2,
   "metadata": {
    "collapsed": true
   },
   "outputs": [],
   "source": [
    "colunas = ['buying','maint','doors','persons','lug_boot','safety','class']\n",
    "newdata.columns = colunas"
   ]
  },
  {
   "cell_type": "markdown",
   "metadata": {},
   "source": [
    "Abaixo é apresentado algumas linhas do conjunto de dados."
   ]
  },
  {
   "cell_type": "code",
   "execution_count": 3,
   "metadata": {},
   "outputs": [
    {
     "data": {
      "text/html": [
       "<div>\n",
       "<style>\n",
       "    .dataframe thead tr:only-child th {\n",
       "        text-align: right;\n",
       "    }\n",
       "\n",
       "    .dataframe thead th {\n",
       "        text-align: left;\n",
       "    }\n",
       "\n",
       "    .dataframe tbody tr th {\n",
       "        vertical-align: top;\n",
       "    }\n",
       "</style>\n",
       "<table border=\"1\" class=\"dataframe\">\n",
       "  <thead>\n",
       "    <tr style=\"text-align: right;\">\n",
       "      <th></th>\n",
       "      <th>buying</th>\n",
       "      <th>maint</th>\n",
       "      <th>doors</th>\n",
       "      <th>persons</th>\n",
       "      <th>lug_boot</th>\n",
       "      <th>safety</th>\n",
       "      <th>class</th>\n",
       "    </tr>\n",
       "  </thead>\n",
       "  <tbody>\n",
       "    <tr>\n",
       "      <th>0</th>\n",
       "      <td>vhigh</td>\n",
       "      <td>vhigh</td>\n",
       "      <td>2</td>\n",
       "      <td>2</td>\n",
       "      <td>small</td>\n",
       "      <td>med</td>\n",
       "      <td>unacc</td>\n",
       "    </tr>\n",
       "    <tr>\n",
       "      <th>1</th>\n",
       "      <td>vhigh</td>\n",
       "      <td>vhigh</td>\n",
       "      <td>2</td>\n",
       "      <td>2</td>\n",
       "      <td>small</td>\n",
       "      <td>high</td>\n",
       "      <td>unacc</td>\n",
       "    </tr>\n",
       "    <tr>\n",
       "      <th>2</th>\n",
       "      <td>vhigh</td>\n",
       "      <td>vhigh</td>\n",
       "      <td>2</td>\n",
       "      <td>2</td>\n",
       "      <td>med</td>\n",
       "      <td>low</td>\n",
       "      <td>unacc</td>\n",
       "    </tr>\n",
       "    <tr>\n",
       "      <th>3</th>\n",
       "      <td>vhigh</td>\n",
       "      <td>vhigh</td>\n",
       "      <td>2</td>\n",
       "      <td>2</td>\n",
       "      <td>med</td>\n",
       "      <td>med</td>\n",
       "      <td>unacc</td>\n",
       "    </tr>\n",
       "    <tr>\n",
       "      <th>4</th>\n",
       "      <td>vhigh</td>\n",
       "      <td>vhigh</td>\n",
       "      <td>2</td>\n",
       "      <td>2</td>\n",
       "      <td>med</td>\n",
       "      <td>high</td>\n",
       "      <td>unacc</td>\n",
       "    </tr>\n",
       "  </tbody>\n",
       "</table>\n",
       "</div>"
      ],
      "text/plain": [
       "  buying  maint doors persons lug_boot safety  class\n",
       "0  vhigh  vhigh     2       2    small    med  unacc\n",
       "1  vhigh  vhigh     2       2    small   high  unacc\n",
       "2  vhigh  vhigh     2       2      med    low  unacc\n",
       "3  vhigh  vhigh     2       2      med    med  unacc\n",
       "4  vhigh  vhigh     2       2      med   high  unacc"
      ]
     },
     "execution_count": 3,
     "metadata": {},
     "output_type": "execute_result"
    }
   ],
   "source": [
    "newdata.head()"
   ]
  },
  {
   "cell_type": "markdown",
   "metadata": {},
   "source": [
    "A função info() nos mostra que o conjunto de dados possui 1727 instância onde cada atributo não possui valores nulos. Dessa maneira, não nos preocuparemos em tratar valores nulos neste conjunto."
   ]
  },
  {
   "cell_type": "code",
   "execution_count": 4,
   "metadata": {},
   "outputs": [
    {
     "name": "stdout",
     "output_type": "stream",
     "text": [
      "<class 'pandas.core.frame.DataFrame'>\n",
      "RangeIndex: 1727 entries, 0 to 1726\n",
      "Data columns (total 7 columns):\n",
      "buying      1727 non-null object\n",
      "maint       1727 non-null object\n",
      "doors       1727 non-null object\n",
      "persons     1727 non-null object\n",
      "lug_boot    1727 non-null object\n",
      "safety      1727 non-null object\n",
      "class       1727 non-null object\n",
      "dtypes: object(7)\n",
      "memory usage: 94.5+ KB\n"
     ]
    }
   ],
   "source": [
    "newdata.info()"
   ]
  },
  {
   "cell_type": "markdown",
   "metadata": {},
   "source": [
    "A função describe nos mostra quantas instância cada atributo possui, além de quantos valores únicos, o valor de atributo mais frequente e a quantidade que o atributo mais frequente aparece."
   ]
  },
  {
   "cell_type": "code",
   "execution_count": 5,
   "metadata": {},
   "outputs": [
    {
     "data": {
      "text/html": [
       "<div>\n",
       "<style>\n",
       "    .dataframe thead tr:only-child th {\n",
       "        text-align: right;\n",
       "    }\n",
       "\n",
       "    .dataframe thead th {\n",
       "        text-align: left;\n",
       "    }\n",
       "\n",
       "    .dataframe tbody tr th {\n",
       "        vertical-align: top;\n",
       "    }\n",
       "</style>\n",
       "<table border=\"1\" class=\"dataframe\">\n",
       "  <thead>\n",
       "    <tr style=\"text-align: right;\">\n",
       "      <th></th>\n",
       "      <th>buying</th>\n",
       "      <th>maint</th>\n",
       "      <th>doors</th>\n",
       "      <th>persons</th>\n",
       "      <th>lug_boot</th>\n",
       "      <th>safety</th>\n",
       "      <th>class</th>\n",
       "    </tr>\n",
       "  </thead>\n",
       "  <tbody>\n",
       "    <tr>\n",
       "      <th>count</th>\n",
       "      <td>1727</td>\n",
       "      <td>1727</td>\n",
       "      <td>1727</td>\n",
       "      <td>1727</td>\n",
       "      <td>1727</td>\n",
       "      <td>1727</td>\n",
       "      <td>1727</td>\n",
       "    </tr>\n",
       "    <tr>\n",
       "      <th>unique</th>\n",
       "      <td>4</td>\n",
       "      <td>4</td>\n",
       "      <td>4</td>\n",
       "      <td>3</td>\n",
       "      <td>3</td>\n",
       "      <td>3</td>\n",
       "      <td>4</td>\n",
       "    </tr>\n",
       "    <tr>\n",
       "      <th>top</th>\n",
       "      <td>high</td>\n",
       "      <td>high</td>\n",
       "      <td>5more</td>\n",
       "      <td>4</td>\n",
       "      <td>big</td>\n",
       "      <td>high</td>\n",
       "      <td>unacc</td>\n",
       "    </tr>\n",
       "    <tr>\n",
       "      <th>freq</th>\n",
       "      <td>432</td>\n",
       "      <td>432</td>\n",
       "      <td>432</td>\n",
       "      <td>576</td>\n",
       "      <td>576</td>\n",
       "      <td>576</td>\n",
       "      <td>1209</td>\n",
       "    </tr>\n",
       "  </tbody>\n",
       "</table>\n",
       "</div>"
      ],
      "text/plain": [
       "       buying maint  doors persons lug_boot safety  class\n",
       "count    1727  1727   1727    1727     1727   1727   1727\n",
       "unique      4     4      4       3        3      3      4\n",
       "top      high  high  5more       4      big   high  unacc\n",
       "freq      432   432    432     576      576    576   1209"
      ]
     },
     "execution_count": 5,
     "metadata": {},
     "output_type": "execute_result"
    }
   ],
   "source": [
    "newdata.describe()"
   ]
  },
  {
   "cell_type": "markdown",
   "metadata": {},
   "source": [
    "Nossa base de dados não possui dados inconsistentes tampouco faltantes porém, possui muitos dados categóricos. Dessa maneira, temos que tornar esse dados categóricos em dados numéricos. A seguir mapeamos cada valor de atributo para um valor inteiro e substituimos no dataset."
   ]
  },
  {
   "cell_type": "code",
   "execution_count": 6,
   "metadata": {
    "collapsed": true
   },
   "outputs": [],
   "source": [
    "mapa = {'vhigh':1,'high':2,'med':3,'low':4}\n",
    "mapaClasses = {'unacc':0,'acc':1,'good':2,'vgood':3}\n",
    "doors = {'2':2, '3':3, '4':4, '5more':5}\n",
    "persons ={'2':2,'4':4,'more':5}\n",
    "lug_boot = {'small':2,'med':3,'big':4}\n",
    "safety = {'low':4, 'med':3, 'high':2}"
   ]
  },
  {
   "cell_type": "code",
   "execution_count": 7,
   "metadata": {
    "collapsed": true
   },
   "outputs": [],
   "source": [
    "newdata['buying'] =  newdata['buying'].map(mapa)\n",
    "newdata['maint'] = newdata['maint'].map(mapa)\n",
    "newdata['doors'] = newdata['doors'].map(doors)\n",
    "newdata['persons'] = newdata['persons'].map(persons)\n",
    "newdata['lug_boot'] = newdata['lug_boot'].map(lug_boot)\n",
    "newdata['safety'] = newdata['safety'].map(safety)\n",
    "newdata['class'] = newdata['class'].map(mapaClasses)"
   ]
  },
  {
   "cell_type": "markdown",
   "metadata": {},
   "source": [
    "O resultado da transformação está mostrado abaixo."
   ]
  },
  {
   "cell_type": "code",
   "execution_count": 8,
   "metadata": {},
   "outputs": [
    {
     "data": {
      "text/html": [
       "<div>\n",
       "<style>\n",
       "    .dataframe thead tr:only-child th {\n",
       "        text-align: right;\n",
       "    }\n",
       "\n",
       "    .dataframe thead th {\n",
       "        text-align: left;\n",
       "    }\n",
       "\n",
       "    .dataframe tbody tr th {\n",
       "        vertical-align: top;\n",
       "    }\n",
       "</style>\n",
       "<table border=\"1\" class=\"dataframe\">\n",
       "  <thead>\n",
       "    <tr style=\"text-align: right;\">\n",
       "      <th></th>\n",
       "      <th>buying</th>\n",
       "      <th>maint</th>\n",
       "      <th>doors</th>\n",
       "      <th>persons</th>\n",
       "      <th>lug_boot</th>\n",
       "      <th>safety</th>\n",
       "      <th>class</th>\n",
       "    </tr>\n",
       "  </thead>\n",
       "  <tbody>\n",
       "    <tr>\n",
       "      <th>0</th>\n",
       "      <td>1</td>\n",
       "      <td>1</td>\n",
       "      <td>2</td>\n",
       "      <td>2</td>\n",
       "      <td>2</td>\n",
       "      <td>3</td>\n",
       "      <td>0</td>\n",
       "    </tr>\n",
       "    <tr>\n",
       "      <th>1</th>\n",
       "      <td>1</td>\n",
       "      <td>1</td>\n",
       "      <td>2</td>\n",
       "      <td>2</td>\n",
       "      <td>2</td>\n",
       "      <td>2</td>\n",
       "      <td>0</td>\n",
       "    </tr>\n",
       "    <tr>\n",
       "      <th>2</th>\n",
       "      <td>1</td>\n",
       "      <td>1</td>\n",
       "      <td>2</td>\n",
       "      <td>2</td>\n",
       "      <td>3</td>\n",
       "      <td>4</td>\n",
       "      <td>0</td>\n",
       "    </tr>\n",
       "    <tr>\n",
       "      <th>3</th>\n",
       "      <td>1</td>\n",
       "      <td>1</td>\n",
       "      <td>2</td>\n",
       "      <td>2</td>\n",
       "      <td>3</td>\n",
       "      <td>3</td>\n",
       "      <td>0</td>\n",
       "    </tr>\n",
       "    <tr>\n",
       "      <th>4</th>\n",
       "      <td>1</td>\n",
       "      <td>1</td>\n",
       "      <td>2</td>\n",
       "      <td>2</td>\n",
       "      <td>3</td>\n",
       "      <td>2</td>\n",
       "      <td>0</td>\n",
       "    </tr>\n",
       "  </tbody>\n",
       "</table>\n",
       "</div>"
      ],
      "text/plain": [
       "   buying  maint  doors  persons  lug_boot  safety  class\n",
       "0       1      1      2        2         2       3      0\n",
       "1       1      1      2        2         2       2      0\n",
       "2       1      1      2        2         3       4      0\n",
       "3       1      1      2        2         3       3      0\n",
       "4       1      1      2        2         3       2      0"
      ]
     },
     "execution_count": 8,
     "metadata": {},
     "output_type": "execute_result"
    }
   ],
   "source": [
    "newdata.head()"
   ]
  },
  {
   "cell_type": "markdown",
   "metadata": {},
   "source": [
    "#### Separamos 70% dos dados para treino e 30% para teste"
   ]
  },
  {
   "cell_type": "code",
   "execution_count": 9,
   "metadata": {
    "collapsed": true
   },
   "outputs": [],
   "source": [
    "indice = math.ceil(len(newdata)*0.7)\n",
    "treino = newdata[:indice]\n",
    "teste = newdata[indice:]\n",
    "X = treino[colunas[:-1]]\n",
    "Y = treino[colunas[-1]]\n",
    "X_teste = teste[colunas[:-1]]\n",
    "Y_teste = teste[colunas[-1]]"
   ]
  },
  {
   "cell_type": "code",
   "execution_count": 10,
   "metadata": {},
   "outputs": [
    {
     "data": {
      "text/html": [
       "<div>\n",
       "<style>\n",
       "    .dataframe thead tr:only-child th {\n",
       "        text-align: right;\n",
       "    }\n",
       "\n",
       "    .dataframe thead th {\n",
       "        text-align: left;\n",
       "    }\n",
       "\n",
       "    .dataframe tbody tr th {\n",
       "        vertical-align: top;\n",
       "    }\n",
       "</style>\n",
       "<table border=\"1\" class=\"dataframe\">\n",
       "  <thead>\n",
       "    <tr style=\"text-align: right;\">\n",
       "      <th></th>\n",
       "      <th>buying</th>\n",
       "      <th>maint</th>\n",
       "      <th>doors</th>\n",
       "      <th>persons</th>\n",
       "      <th>lug_boot</th>\n",
       "      <th>safety</th>\n",
       "      <th>class</th>\n",
       "    </tr>\n",
       "  </thead>\n",
       "  <tbody>\n",
       "    <tr>\n",
       "      <th>buying</th>\n",
       "      <td>1.000000</td>\n",
       "      <td>-0.001043</td>\n",
       "      <td>-0.001043</td>\n",
       "      <td>-0.001039</td>\n",
       "      <td>-0.000952</td>\n",
       "      <td>0.000952</td>\n",
       "      <td>0.282488</td>\n",
       "    </tr>\n",
       "    <tr>\n",
       "      <th>maint</th>\n",
       "      <td>-0.001043</td>\n",
       "      <td>1.000000</td>\n",
       "      <td>-0.001043</td>\n",
       "      <td>-0.001039</td>\n",
       "      <td>-0.000952</td>\n",
       "      <td>0.000952</td>\n",
       "      <td>0.232128</td>\n",
       "    </tr>\n",
       "    <tr>\n",
       "      <th>doors</th>\n",
       "      <td>-0.001043</td>\n",
       "      <td>-0.001043</td>\n",
       "      <td>1.000000</td>\n",
       "      <td>-0.001039</td>\n",
       "      <td>-0.000952</td>\n",
       "      <td>0.000952</td>\n",
       "      <td>0.065662</td>\n",
       "    </tr>\n",
       "    <tr>\n",
       "      <th>persons</th>\n",
       "      <td>-0.001039</td>\n",
       "      <td>-0.001039</td>\n",
       "      <td>-0.001039</td>\n",
       "      <td>1.000000</td>\n",
       "      <td>-0.000949</td>\n",
       "      <td>0.000949</td>\n",
       "      <td>0.373253</td>\n",
       "    </tr>\n",
       "    <tr>\n",
       "      <th>lug_boot</th>\n",
       "      <td>-0.000952</td>\n",
       "      <td>-0.000952</td>\n",
       "      <td>-0.000952</td>\n",
       "      <td>-0.000949</td>\n",
       "      <td>1.000000</td>\n",
       "      <td>0.000869</td>\n",
       "      <td>0.157617</td>\n",
       "    </tr>\n",
       "    <tr>\n",
       "      <th>safety</th>\n",
       "      <td>0.000952</td>\n",
       "      <td>0.000952</td>\n",
       "      <td>0.000952</td>\n",
       "      <td>0.000949</td>\n",
       "      <td>0.000869</td>\n",
       "      <td>1.000000</td>\n",
       "      <td>-0.439171</td>\n",
       "    </tr>\n",
       "    <tr>\n",
       "      <th>class</th>\n",
       "      <td>0.282488</td>\n",
       "      <td>0.232128</td>\n",
       "      <td>0.065662</td>\n",
       "      <td>0.373253</td>\n",
       "      <td>0.157617</td>\n",
       "      <td>-0.439171</td>\n",
       "      <td>1.000000</td>\n",
       "    </tr>\n",
       "  </tbody>\n",
       "</table>\n",
       "</div>"
      ],
      "text/plain": [
       "            buying     maint     doors   persons  lug_boot    safety     class\n",
       "buying    1.000000 -0.001043 -0.001043 -0.001039 -0.000952  0.000952  0.282488\n",
       "maint    -0.001043  1.000000 -0.001043 -0.001039 -0.000952  0.000952  0.232128\n",
       "doors    -0.001043 -0.001043  1.000000 -0.001039 -0.000952  0.000952  0.065662\n",
       "persons  -0.001039 -0.001039 -0.001039  1.000000 -0.000949  0.000949  0.373253\n",
       "lug_boot -0.000952 -0.000952 -0.000952 -0.000949  1.000000  0.000869  0.157617\n",
       "safety    0.000952  0.000952  0.000952  0.000949  0.000869  1.000000 -0.439171\n",
       "class     0.282488  0.232128  0.065662  0.373253  0.157617 -0.439171  1.000000"
      ]
     },
     "execution_count": 10,
     "metadata": {},
     "output_type": "execute_result"
    }
   ],
   "source": [
    "newdata.corr()"
   ]
  },
  {
   "cell_type": "code",
   "execution_count": 11,
   "metadata": {},
   "outputs": [
    {
     "data": {
      "text/plain": [
       "array([[<matplotlib.axes._subplots.AxesSubplot object at 0x7f57dd55ab00>,\n",
       "        <matplotlib.axes._subplots.AxesSubplot object at 0x7f57d5691908>,\n",
       "        <matplotlib.axes._subplots.AxesSubplot object at 0x7f57d55fc748>],\n",
       "       [<matplotlib.axes._subplots.AxesSubplot object at 0x7f57d55b5b38>,\n",
       "        <matplotlib.axes._subplots.AxesSubplot object at 0x7f57d55480b8>,\n",
       "        <matplotlib.axes._subplots.AxesSubplot object at 0x7f57d55480f0>],\n",
       "       [<matplotlib.axes._subplots.AxesSubplot object at 0x7f57d548aeb8>,\n",
       "        <matplotlib.axes._subplots.AxesSubplot object at 0x7f57d55289e8>,\n",
       "        <matplotlib.axes._subplots.AxesSubplot object at 0x7f57d53d70b8>]], dtype=object)"
      ]
     },
     "execution_count": 11,
     "metadata": {},
     "output_type": "execute_result"
    },
    {
     "data": {
      "image/png": "[encoded data removed]",
      "text/plain": [
       "<matplotlib.figure.Figure at 0x7f580c2b8278>"
      ]
     },
     "metadata": {},
     "output_type": "display_data"
    }
   ],
   "source": [
    "newdata.hist(figsize=(15,15))"
   ]
  },
  {
   "cell_type": "code",
   "execution_count": 12,
   "metadata": {},
   "outputs": [
    {
     "data": {
      "image/png": "[encoded data removed]",
      "text/plain": [
       "<matplotlib.figure.Figure at 0x7f580c1f7400>"
      ]
     },
     "metadata": {},
     "output_type": "display_data"
    }
   ],
   "source": [
    "pd.plotting.scatter_matrix(newdata, figsize=(20,20));"
   ]
  },
  {
   "cell_type": "markdown",
   "metadata": {},
   "source": [
    "## Criação dos modelos "
   ]
  },
  {
   "cell_type": "markdown",
   "metadata": {},
   "source": [
    "### Árvore de Decisão\n",
    "\n",
    "É um método de aprendizagem supervisionada não-paramétrica usado para classificação e regressão. O objetivo é criar um modelo que preveja o valor de uma variável de destino aprendendo regras de decisão simples inferidas dos recursos de dados. A seguir, usaremos esta técnica para classificar os carros."
   ]
  },
  {
   "cell_type": "code",
   "execution_count": 13,
   "metadata": {
    "collapsed": true
   },
   "outputs": [],
   "source": [
    "classificador = tree.DecisionTreeClassifier()\n",
    "classificador = classificador.fit(X,Y)"
   ]
  },
  {
   "cell_type": "code",
   "execution_count": 14,
   "metadata": {},
   "outputs": [
    {
     "name": "stdout",
     "output_type": "stream",
     "text": [
      "Acurácia:  0.864864864865\n",
      "Recall:  0.730242846904\n",
      "Precisão:  0.870299086126\n",
      "F1:  0.750580838486\n",
      "Media cross validation: 0.820636115981\n"
     ]
    }
   ],
   "source": [
    "resultDecisionTree = model_selection.cross_val_score(classificador,X,Y,cv=3)\n",
    "mediaDT = np.average(resultDecisionTree)\n",
    "predicoes = classificador.predict(X_teste.values)\n",
    "#print(predicoes)\n",
    "#print(type(predicoes))\n",
    "#print(predicoes.shape)\n",
    "#print(\"Cross Validation: \",mediaDT)\n",
    "#print(confusion_matrix(Y_teste.values,predicoes))\n",
    "print(\"Acurácia: \",accuracy_score(Y_teste.values,predicoes))\n",
    "print(\"Recall: \",recall_score(Y_teste.values,predicoes,average='macro'))\n",
    "print(\"Precisão: \", precision_score(Y_teste.values,predicoes,average='macro'))\n",
    "print(\"F1: \", f1_score(Y_teste.values,predicoes,average='macro'))\n",
    "print(\"Media cross validation:\",mediaDT)"
   ]
  },
  {
   "cell_type": "markdown",
   "metadata": {},
   "source": [
    "### Knn"
   ]
  },
  {
   "cell_type": "markdown",
   "metadata": {},
   "source": [
    "KNN é um classificador onde o aprendizado é baseado na analogia. O conjunto de treinamento é formado por vetores n-dimensionais e cada elemento deste conjunto representa um ponto no espaço n-dimensional. Para  determinar  a  classe   de um elemento que não pertença ao conjunto de treinamento, o classificador KNN procura K elementos do conjunto de treinamento que estejam mais próximos deste elemento desconhecido, ou seja, que tenham a menor distância. Estes K elementos são chamados de K-vizinhos mais próximos. Verifica-se quais são as classes desses K vizinhos e a classe mais frequente será atribuída à classe do elemento desconhecido. "
   ]
  },
  {
   "cell_type": "code",
   "execution_count": 15,
   "metadata": {},
   "outputs": [
    {
     "data": {
      "text/plain": [
       "KNeighborsClassifier(algorithm='auto', leaf_size=30, metric='minkowski',\n",
       "           metric_params=None, n_jobs=1, n_neighbors=5, p=2,\n",
       "           weights='uniform')"
      ]
     },
     "execution_count": 15,
     "metadata": {},
     "output_type": "execute_result"
    }
   ],
   "source": [
    "neigh = KNeighborsClassifier(n_neighbors=5)\n",
    "neigh.fit(X,Y)"
   ]
  },
  {
   "cell_type": "code",
   "execution_count": 16,
   "metadata": {},
   "outputs": [
    {
     "name": "stdout",
     "output_type": "stream",
     "text": [
      "Acurácia:  0.777992277992\n",
      "Recall:  0.551647463109\n",
      "Precisão:  0.59934322987\n",
      "F1:  0.529886548248\n",
      "Media cross validation: 0.859384130433\n"
     ]
    }
   ],
   "source": [
    "resultKnn = model_selection.cross_val_score(neigh,X,Y,cv=3)\n",
    "mediaKnn = np.average(resultKnn)\n",
    "predicoesKnn = neigh.predict(X_teste.values)\n",
    "#print(mediaKnn)\n",
    "#print(confusion_matrix(Y_teste.values,predicoesKnn))\n",
    "print(\"Acurácia: \",accuracy_score(Y_teste.values,predicoesKnn))\n",
    "print(\"Recall: \",recall_score(Y_teste.values,predicoesKnn,average='macro'))\n",
    "print(\"Precisão: \", precision_score(Y_teste.values,predicoesKnn,average='macro'))\n",
    "print(\"F1: \", f1_score(Y_teste.values,predicoesKnn,average='macro'))\n",
    "print(\"Media cross validation:\",mediaKnn)"
   ]
  },
  {
   "cell_type": "markdown",
   "metadata": {
    "collapsed": true
   },
   "source": [
    "### SVM"
   ]
  },
  {
   "cell_type": "code",
   "execution_count": 17,
   "metadata": {},
   "outputs": [
    {
     "data": {
      "text/plain": [
       "SVC(C=1.0, cache_size=200, class_weight=None, coef0=0.0,\n",
       "  decision_function_shape='ovr', degree=3, gamma='auto', kernel='rbf',\n",
       "  max_iter=-1, probability=False, random_state=None, shrinking=True,\n",
       "  tol=0.001, verbose=False)"
      ]
     },
     "execution_count": 17,
     "metadata": {},
     "output_type": "execute_result"
    }
   ],
   "source": [
    "clf = svm.SVC()\n",
    "clf.fit(X,Y)"
   ]
  },
  {
   "cell_type": "code",
   "execution_count": 29,
   "metadata": {},
   "outputs": [
    {
     "name": "stdout",
     "output_type": "stream",
     "text": [
      "Acurácia:  0.718146718147\n",
      "Recall:  0.718146718147\n",
      "Precisão:  0.718146718147\n",
      "F1:  0.718146718147\n",
      "Media cross validation: 0.88984428368\n"
     ]
    }
   ],
   "source": [
    "resultSVM = model_selection.cross_val_score(clf,X,Y)\n",
    "predicoesSVM = clf.predict(X_teste.values)\n",
    "\n",
    "mediaSVM = np.average(resultSVM)\n",
    "#print(mediaSVM)\n",
    "#print(confusion_matrix(Y_teste.values,predicoesKnn))\n",
    "\n",
    "print(\"Acurácia: \",accuracy_score(Y_teste.values,predicoesSVM))\n",
    "print(\"Recall: \",recall_score(Y_teste.values,predicoesSVM,average='micro'))\n",
    "print(\"Precisão: \", precision_score(Y_teste.values,predicoesSVM,average='micro'))\n",
    "print(\"F1: \", f1_score(Y_teste.values,predicoesSVM,average='micro'))\n",
    "print(\"Media cross validation:\",mediaSVM)"
   ]
  },
  {
   "cell_type": "markdown",
   "metadata": {},
   "source": [
    "### Naive Bayes"
   ]
  },
  {
   "cell_type": "markdown",
   "metadata": {},
   "source": [
    "O Classificador Naive Bayes é provavelmente o classificador mais utilizado em Machine Learning. O classificador é denominado ingênuo (“naive”) por assumir que os atributos sao condicionalmente independentes, ou seja, a informacao de um evento não é informativa sobre nenhum outro. Apesar desta premissa “ingênua” e simplista, o classificador reporta o melhor desempenho em varias tarefas de classificacão. "
   ]
  },
  {
   "cell_type": "code",
   "execution_count": 30,
   "metadata": {
    "collapsed": true
   },
   "outputs": [],
   "source": [
    "gnb = GaussianNB()\n",
    "y_pred = gnb.fit(X,Y)"
   ]
  },
  {
   "cell_type": "code",
   "execution_count": 31,
   "metadata": {},
   "outputs": [
    {
     "name": "stdout",
     "output_type": "stream",
     "text": [
      "Acurácia:  0.727799227799\n",
      "Recall:  0.718146718147\n",
      "Precisão:  0.718146718147\n",
      "F1:  0.718146718147\n",
      "Media cross validation: 0.856915055595\n"
     ]
    }
   ],
   "source": [
    "resultNB = model_selection.cross_val_score(gnb,X,Y,cv=3)\n",
    "predicoesNB = gnb.predict(X_teste.values)\n",
    "mediaNB = np.average(resultNB)\n",
    "#print(mediaNB)\n",
    "#print(confusion_matrix(Y_teste.values,predicoesKnn))\n",
    "print(\"Acurácia: \",accuracy_score(predicoesNB,Y_teste.values))\n",
    "print(\"Recall: \",recall_score(Y_teste.values,predicoesSVM,average='micro'))\n",
    "print(\"Precisão: \", precision_score(Y_teste.values,predicoesSVM,average='micro'))\n",
    "print(\"F1: \", f1_score(Y_teste.values,predicoesSVM,average='micro'))\n",
    "print(\"Media cross validation:\",mediaNB)"
   ]
  },
  {
   "cell_type": "markdown",
   "metadata": {},
   "source": [
    "O gráfico abaixo, mostra o desempenho de cada técnica através da validação cruzada - <i>cross validation</i>."
   ]
  },
  {
   "cell_type": "code",
   "execution_count": 21,
   "metadata": {},
   "outputs": [
    {
     "data": {
      "image/png": "[encoded data removed]",
      "text/plain": [
       "<matplotlib.figure.Figure at 0x7f57d5225748>"
      ]
     },
     "metadata": {},
     "output_type": "display_data"
    }
   ],
   "source": [
    "y_axis = [int(mediaDT*100),int(mediaKnn*100),int(mediaNB*100), int(mediaSVM*100)]\n",
    "x_axis = range(len(y_axis))\n",
    "\n",
    "plt.bar(x_axis, y_axis)\n",
    "plt.show()"
   ]
  },
  {
   "cell_type": "markdown",
   "metadata": {},
   "source": [
    "### Referências"
   ]
  },
  {
   "cell_type": "markdown",
   "metadata": {},
   "source": [
    "https://www.maxwell.vrac.puc-rio.br/7587/7587_6.PDF <br>\n",
    "https://www.maxwell.vrac.puc-rio.br/9947/9947_5.PDF <br>\n",
    "http://scikit-learn.org/stable/"
   ]
  },
  {
   "cell_type": "code",
   "execution_count": null,
   "metadata": {
    "collapsed": true
   },
   "outputs": [],
   "source": []
  }
 ],
 "metadata": {
  "kernelspec": {
   "display_name": "Python 3",
   "language": "python",
   "name": "python3"
  },
  "language_info": {
   "codemirror_mode": {
    "name": "ipython",
    "version": 3
   },
   "file_extension": ".py",
   "mimetype": "text/x-python",
   "name": "python",
   "nbconvert_exporter": "python",
   "pygments_lexer": "ipython3",
   "version": "3.6.2"
  }
 },
 "nbformat": 4,
 "nbformat_minor": 2
}
