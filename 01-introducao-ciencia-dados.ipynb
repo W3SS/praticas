{
 "cells": [
  {
   "cell_type": "markdown",
   "metadata": {},
   "source": [
    "# Introdução à Ciência de Dados"
   ]
  },
  {
   "cell_type": "markdown",
   "metadata": {
    "collapsed": true
   },
   "source": [
    "### Ciência de Dados\n",
    "\n",
    "Ciência de Dados é a ** transformação de dados usando matemática e estatística em insights, decisões e produtos valiosos** [Foreman, 2013]. Ela é usada nas organizações para ajudar a melhorar seu funcionamento e a criar valor.\n",
    "\n",
    "A ciência de dados possui ferramentas para analisar esses dados e a partir deles, extrair conhecimentos essenciais para processos de tomada de decisão nos mais diversos contextos, como: \n",
    "\n",
    "- estratégias de logística\n",
    "- melhoria do trânsito urbano\n",
    "- controle de estoque de produtos\n",
    "- alocação de tarefas a colaboradores\n",
    "- melhoria de desempenho de alunos, atletas e vendedores\n",
    "- redução de custos\n",
    "- detecção de fraudes\n",
    "- ... \n",
    "\n",
    "** Desse modo, o uso de técnicas de análise de dados e aprendizagem de máquina podem levar ao uso muito mais eficiente de recursos. **"
   ]
  },
  {
   "cell_type": "markdown",
   "metadata": {},
   "source": [
    "#### Motivações\n",
    "\n",
    "- Barateamento e popularização dos dispositivos móveis e dos mais diversos tipos de sensores para coleta de dados.\n",
    "- Aumento do poder de processamento e armazenamento dos computadores.\n",
    "- Otimização de recursos em um mercado global cada vez mais competitivo.\n",
    "- Amadurecimento, melhoria e disseminação de técnicas de aprendizagem de máquina.\n"
   ]
  },
  {
   "cell_type": "markdown",
   "metadata": {},
   "source": [
    "### Bibliografia\n",
    "\n",
    "#### Análise de Dados usando Python\n",
    "\n",
    "- Grus, Joel. **Data Science from Scratch: First Principles with Python**. O'Reilly Media. 1ª Ed., 2015.\n",
    "\n",
    "- McKinney, Wes. **Python for Data Analysis: Data Wrangling with Pandas, NumPy, and IPython**. O'Reilly Media. 1ª Ed., 2012.\n",
    "\n",
    "- Brownlee, Jason. **Machine Learning Mastery with Python: Understand Your Data, Create Accurate Models and Work Projects End-To-End**. [Ebook](https://machinelearningmastery.com/machine-learning-with-python/). 1ª Ed., 2016. \n",
    "\n",
    "#### Aprendizado de Máquina usando Python\n",
    "\n",
    "- Raschka, Sebastian. **Python Machine Learning**. Packt Publishing. 1ª Ed., 2015. \n",
    "\n",
    "- Richert, Willi; Coelho, Luis Pedro. **Building Machine Learning Systems with Python**. Packt Publishing. 1ª Ed., 2013.\n",
    "\n",
    "\n",
    "#### Ciência de Dados\n",
    "\n",
    "- Foreman, John W. **Data Smart: Using Data Science to Transform Information into Insight**. Wiley. 1ª Ed., 2013.\n",
    "\n",
    "- Provost, Foster; Fawcett, Tom. **Data Science for Business: What You Need to Know about Data Mining and Data-Analytic Thinking**. O'Reilly Media. 1ª Ed., 2013.\n",
    "\n",
    "\n",
    "#### Aprendizado de Máquina \n",
    "\n",
    "- James, Gareth; Witten, Daniela; Hastie, Trevor; Tibshirani, Robert. **An Introduction to Statistical Learning: with Applications in R**. Springer. 1ª Ed., 2013.\n",
    "\n",
    "- Hastie, Trevor; Tibshirani, Robert; Friedman, Jerome. **The Elements of Statistical Learning: Data Mining, Inference, and Prediction. Springer**. 2ª Ed., 2009.\n",
    "\n",
    "- Pinheiro, Carlos André Reis.  **Inteligência Analítica: Mineração de Dados e Descoberta de Conhecimento**. Ciência Moderna, 1ª Ed., 2008.\n",
    "\n",
    "- Siegel, Eric. **Predictive Analytics: The Power to Predict Who Will Click, Buy, Lie, or Die**. Wiley. 2ª Ed., 2016.\n",
    "\n",
    "- Tan, Pang-Ning; Steinbach, Michael; Kumar, Vipin. **Introdução ao Data Mining - Mineração de Dados**. Ciência Moderna, 1ª Ed., 2012.\n",
    "\n",
    "- Witten, Ian H.; Frank, Eibe; Hall, Mark A. **Data Mining: Practical Machine Learning Tools and Techniques**. The Morgan Kaufmann Series in Data Management Systems. Morgan Kaufmann, 3ª Ed., 2011. \n",
    "\n",
    "- Zaki, M. J.; Meira Jr., W. **Data Mining and Analysis: Fundamental Concepts and Algorithms**. Cambridge University Press. 1ª Ed., 2014.\n"
   ]
  },
  {
   "cell_type": "markdown",
   "metadata": {},
   "source": [
    "### Cursos Introdutórios Online e Gratuitos\n",
    "\n",
    "- [Data Science Academy - Introdução à Ciência de Dados](https://www.datascienceacademy.com.br/course?courseid=introduo--cincia-de-dados)\n",
    "\n",
    "- [Data Science Academy - Python Fundamentos para Análise de Dados](https://www.datascienceacademy.com.br/pages/curso-python-fundamentos-para-analise-de-dados)\n"
   ]
  },
  {
   "cell_type": "markdown",
   "metadata": {},
   "source": [
    "### Sites\n",
    "\n",
    "- [Data School](http://www.dataschool.io/)\n",
    "\n",
    "- [Machine Learning Mastery](http://machinelearningmastery.com/)\n",
    "\n",
    "- [Kaggle](https://www.kaggle.com/)\n",
    "\n",
    "- [Analytics Vidhya](https://www.analyticsvidhya.com/)\n",
    "\n",
    "- [Machine Learning Recipes with Josh Gordon](https://github.com/machine-learning-projects/machine-learning-recipes)\n",
    "\n"
   ]
  },
  {
   "cell_type": "markdown",
   "metadata": {},
   "source": [
    "## Vídeos\n",
    "\n",
    "### [Webinar Udacity - De aprendiz a mestre em Machine Learning](https://www.youtube.com/watch?v=1RWX5BhscAM) com [Gilberto Titericz](https://www.kaggle.com/titericz).\n",
    "\n",
    "#### Principais momentos\n",
    "- Por que decidiu focar sua carreira em machine learning?\n",
    "- Como você utiliza atualmente data science no trabalho?\n",
    "- O que aprendeu com as competições que você venceu?\n",
    "- Você pode mostrar um exemplo de aplicação de machine learning que realizou?\n",
    "- O que você faz para estudar e se atualizar sempre?\n",
    "\n",
    "### [Machine Learning Recipes with Josh Gordon](https://www.youtube.com/playlist?list=PLOU2XLYxmsIIuiBfYad6rFYQU_jL2ryal)"
   ]
  },
  {
   "cell_type": "code",
   "execution_count": null,
   "metadata": {
    "collapsed": true
   },
   "outputs": [],
   "source": []
  }
 ],
 "metadata": {
  "anaconda-cloud": {},
  "kernelspec": {
   "display_name": "Python 3",
   "language": "python",
   "name": "python3"
  },
  "language_info": {
   "codemirror_mode": {
    "name": "ipython",
    "version": 3
   },
   "file_extension": ".py",
   "mimetype": "text/x-python",
   "name": "python",
   "nbconvert_exporter": "python",
   "pygments_lexer": "ipython3",
   "version": "3.6.1"
  }
 },
 "nbformat": 4,
 "nbformat_minor": 1
}
